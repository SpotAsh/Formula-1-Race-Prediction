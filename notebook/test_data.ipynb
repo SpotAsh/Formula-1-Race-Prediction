{
 "cells": [
  {
   "cell_type": "code",
   "execution_count": null,
   "id": "e54fd477",
   "metadata": {
    "vscode": {
     "languageId": "plaintext"
    }
   },
   "outputs": [],
   "source": [
    "from src.fetch_data import get_race_laps\n",
    "\n",
    "laps = get_race_laps(2025, 'China')\n",
    "print(laps.head())\n"
   ]
  }
 ],
 "metadata": {
  "language_info": {
   "name": "python"
  }
 },
 "nbformat": 4,
 "nbformat_minor": 5
}
